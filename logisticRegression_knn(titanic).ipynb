{
 "cells": [
  {
   "cell_type": "code",
   "execution_count": 402,
   "metadata": {
    "collapsed": false
   },
   "outputs": [],
   "source": [
    "from numpy import *\n",
    "import matplotlib.pyplot as plt\n",
    "%matplotlib inline\n",
    "import math\n",
    "import copy\n",
    "import operator"
   ]
  },
  {
   "cell_type": "markdown",
   "metadata": {},
   "source": [
    "## Read File &\n",
    "## Make training sets and test sets"
   ]
  },
  {
   "cell_type": "code",
   "execution_count": 211,
   "metadata": {
    "collapsed": false
   },
   "outputs": [],
   "source": [
    "def divideTrainTest(data, label):\n",
    "    train_mat=[]; train_label=[]; test_mat=[]; test_label=[]\n",
    "    for i in range(len(label)):\n",
    "        #training set(2/3), test set(1/3)\n",
    "        if i%3==0:\n",
    "            test_mat.append(data[i])\n",
    "            test_label.append(label[i])\n",
    "        else:\n",
    "            train_mat.append(data[i])\n",
    "            train_label.append(label[i])\n",
    "\n",
    "    #x0(=1) 추가\n",
    "    train_mat = concatenate( (array(train_mat),ones((len(train_mat),1))), axis=1 ) \n",
    "    test_mat = concatenate( (array(test_mat),ones((len(test_mat),1))), axis=1 ) \n",
    "#     return mat(train_mat), mat(train_label).T, mat(test_mat), test_label\n",
    "    return train_mat, train_label, test_mat, test_label"
   ]
  },
  {
   "cell_type": "markdown",
   "metadata": {},
   "source": [
    "## Feature Normalization"
   ]
  },
  {
   "cell_type": "code",
   "execution_count": 3,
   "metadata": {
    "collapsed": true
   },
   "outputs": [],
   "source": [
    "def normalization(data):\n",
    "    d = mat(data)\n",
    "    m,n = shape(d)\n",
    "    avg=[]; mx=[]\n",
    "    for i in range(n):\n",
    "        avg.append( float( average(d[:,i]) ))\n",
    "        mx.append( float( max(d[:,i]) ) )\n",
    "#     x = (x-avg)/(mx)\n",
    "    return [[float(data[j][i]-avg[i])/(mx[i]) for i in range(n)] for j in range(m)]"
   ]
  },
  {
   "cell_type": "code",
   "execution_count": 213,
   "metadata": {
    "collapsed": false
   },
   "outputs": [],
   "source": [
    "data=[]; target=[]\n",
    "f=open(\"./titanic/train_2.csv\",'r')\n",
    "lines = f.readlines()\n",
    "f.close()\n",
    "for i in range(1,len(lines)):\n",
    "    if lines[i].find(',,') == -1:\n",
    "        splitLine = lines[i].split(',')\n",
    "        splitLine[7] = splitLine[7].strip(\"\\r\\n\")\n",
    "        if splitLine[3]=='male':\n",
    "            splitLine[3] = splitLine[3].replace('male','1')\n",
    "        elif splitLine[3]=='female':\n",
    "            splitLine[3] = splitLine[3].replace('female','0')\n",
    "        target.append( splitLine[1])\n",
    "        data.append( splitLine[2:] )\n",
    "data = [map(float, d) for d in data]\n",
    "data = normalization(data)\n",
    "m,n =  shape(data)\n",
    "target = map(float, target)\n",
    "# train_mat, train_label, test_mat, test_label = divideTrainTest(data, target)\n",
    "train_mat_li, train_label_li, test_mat_li, test_label = divideTrainTest(data, target)"
   ]
  },
  {
   "cell_type": "code",
   "execution_count": 214,
   "metadata": {
    "collapsed": true
   },
   "outputs": [],
   "source": [
    "train_mat = mat(train_mat_li)\n",
    "train_label = mat(train_label_li).T\n",
    "test_mat = mat(test_mat_li)"
   ]
  },
  {
   "cell_type": "markdown",
   "metadata": {},
   "source": [
    "## Plot"
   ]
  },
  {
   "cell_type": "code",
   "execution_count": 215,
   "metadata": {
    "collapsed": false
   },
   "outputs": [],
   "source": [
    "trainD1 = array([data[i] for i in range(m) if target[i]==1 ], dtype='float128')\n",
    "trainD0 = array([data[i] for i in range(m) if target[i]==0 ], dtype='float128')\n",
    "# plt.plot(trainD1[:,[2]], trainD1[:,[3]], 'o', color='red')  # y=1 \n",
    "# plt.plot(trainD0[:,[2]], trainD0[:,[3]], 'o', color='blue') # y=0"
   ]
  },
  {
   "cell_type": "markdown",
   "metadata": {},
   "source": [
    "### - Pclass"
   ]
  },
  {
   "cell_type": "code",
   "execution_count": 385,
   "metadata": {
    "collapsed": false
   },
   "outputs": [
    {
     "data": {
      "image/png": "[encoded data removed]",
      "text/plain": [
       "<matplotlib.figure.Figure at 0x108ec6b50>"
      ]
     },
     "metadata": {},
     "output_type": "display_data"
    }
   ],
   "source": [
    "plt.boxplot(trainD1[:,[0]],positions=[1]) \n",
    "plt.boxplot(trainD0[:,[0]],positions=[0])\n",
    "plt.axis([-1,2,-1,1.5])\n",
    "plt.show()"
   ]
  },
  {
   "cell_type": "code",
   "execution_count": 216,
   "metadata": {
    "collapsed": false
   },
   "outputs": [
    {
     "data": {
      "text/plain": [
       "[-1, 1, -1, 2]"
      ]
     },
     "execution_count": 216,
     "metadata": {},
     "output_type": "execute_result"
    },
    {
     "data": {
      "image/png": "[encoded data removed]",
      "text/plain": [
       "<matplotlib.figure.Figure at 0x1086b8410>"
      ]
     },
     "metadata": {},
     "output_type": "display_data"
    }
   ],
   "source": [
    "\n",
    "plt.plot(trainD1[:,[0]], ones((len(trainD1),1)), 'o', color='red', alpha=0.1)  # y=1  #RevolvingUtilization , age\n",
    "plt.plot(trainD0[:,[0]], zeros((len(trainD0),1)), 'o', color='blue', alpha=0.1) # y=0\n",
    "\n",
    "plt.xlabel('Pclass')\n",
    "plt.ylabel('1 or 0')\n",
    "plt.axis([-1,1,-1,2])"
   ]
  },
  {
   "cell_type": "markdown",
   "metadata": {},
   "source": [
    "### -sex"
   ]
  },
  {
   "cell_type": "code",
   "execution_count": 384,
   "metadata": {
    "collapsed": false
   },
   "outputs": [
    {
     "data": {
      "image/png": "[encoded data removed]",
      "text/plain": [
       "<matplotlib.figure.Figure at 0x1057f2f10>"
      ]
     },
     "metadata": {},
     "output_type": "display_data"
    }
   ],
   "source": [
    "plt.boxplot(trainD1[:,[1]],positions=[1]) \n",
    "plt.boxplot(trainD0[:,[1]],positions=[0])\n",
    "plt.axis([-1,2,-1,1.5])\n",
    "plt.show()"
   ]
  },
  {
   "cell_type": "code",
   "execution_count": 217,
   "metadata": {
    "collapsed": false
   },
   "outputs": [
    {
     "data": {
      "text/plain": [
       "[-1, 1, -1, 2]"
      ]
     },
     "execution_count": 217,
     "metadata": {},
     "output_type": "execute_result"
    },
    {
     "data": {
      "image/png": "[encoded data removed]",
      "text/plain": [
       "<matplotlib.figure.Figure at 0x1086b8750>"
      ]
     },
     "metadata": {},
     "output_type": "display_data"
    }
   ],
   "source": [
    "plt.plot(trainD1[:,[1]], ones((len(trainD1),1)), 'o', color='red', alpha=0.1)  # y=1  #RevolvingUtilization , age\n",
    "plt.plot(trainD0[:,[1]], zeros((len(trainD0),1)), 'o', color='blue', alpha=0.1) # y=0\n",
    "\n",
    "plt.xlabel('sex')\n",
    "plt.ylabel('1 or 0')\n",
    "plt.axis([-1,1,-1,2])"
   ]
  },
  {
   "cell_type": "markdown",
   "metadata": {},
   "source": [
    "### - Age"
   ]
  },
  {
   "cell_type": "code",
   "execution_count": 401,
   "metadata": {
    "collapsed": false
   },
   "outputs": [
    {
     "data": {
      "image/png": "[encoded data removed]",
      "text/plain": [
       "<matplotlib.figure.Figure at 0x109d15050>"
      ]
     },
     "metadata": {},
     "output_type": "display_data"
    }
   ],
   "source": [
    "plt.boxplot(trainD1[:,[2]],positions=[1])  # y=1  #RevolvingUtilization , age\n",
    "plt.boxplot(trainD0[:,[2]],positions=[0])\n",
    "plt.ylabel('Age')\n",
    "plt.xlabel('0 or 1')\n",
    "plt.axis([-1,2,-0.5,1.5])\n",
    "plt.show()"
   ]
  },
  {
   "cell_type": "code",
   "execution_count": 218,
   "metadata": {
    "collapsed": false
   },
   "outputs": [
    {
     "data": {
      "text/plain": [
       "[-1, 1, -1, 2]"
      ]
     },
     "execution_count": 218,
     "metadata": {},
     "output_type": "execute_result"
    },
    {
     "data": {
      "image/png": "[encoded data removed]",
      "text/plain": [
       "<matplotlib.figure.Figure at 0x1088aa8d0>"
      ]
     },
     "metadata": {},
     "output_type": "display_data"
    }
   ],
   "source": [
    "plt.plot(trainD1[:,[2]], ones((len(trainD1),1)), 'o', color='red', alpha=0.1)  # y=1  #RevolvingUtilization , age\n",
    "plt.plot(trainD0[:,[2]], zeros((len(trainD0),1)), 'o', color='blue', alpha=0.1) # y=0\n",
    "\n",
    "plt.xlabel('Age')\n",
    "plt.ylabel('1 or 0')\n",
    "plt.axis([-1,1,-1,2])"
   ]
  },
  {
   "cell_type": "markdown",
   "metadata": {},
   "source": [
    "### -SibSp"
   ]
  },
  {
   "cell_type": "code",
   "execution_count": 387,
   "metadata": {
    "collapsed": false
   },
   "outputs": [
    {
     "data": {
      "image/png": "[encoded data removed]",
      "text/plain": [
       "<matplotlib.figure.Figure at 0x108669650>"
      ]
     },
     "metadata": {},
     "output_type": "display_data"
    }
   ],
   "source": [
    "plt.boxplot(trainD1[:,[3]],positions=[1])  # y=1  #RevolvingUtilization , age\n",
    "plt.boxplot(trainD0[:,[3]],positions=[0])\n",
    "# plt.plot(trainD0[:,[5]], zeros((len(trainD0),1)), 'o', color='blue', alpha=0.1) # y=0\n",
    "\n",
    "# plt.axis([0,500,0,2])\n",
    "plt.axis([-1,2,-0.5,1])\n",
    "plt.show()"
   ]
  },
  {
   "cell_type": "code",
   "execution_count": 219,
   "metadata": {
    "collapsed": false,
    "scrolled": true
   },
   "outputs": [
    {
     "data": {
      "text/plain": [
       "[-1, 2, -1, 2]"
      ]
     },
     "execution_count": 219,
     "metadata": {},
     "output_type": "execute_result"
    },
    {
     "data": {
      "image/png": "[encoded data removed]",
      "text/plain": [
       "<matplotlib.figure.Figure at 0x10838aad0>"
      ]
     },
     "metadata": {},
     "output_type": "display_data"
    }
   ],
   "source": [
    "plt.plot(trainD1[:,[3]], ones((len(trainD1),1)), 'o', color='red', alpha=0.1)  # y=1  #RevolvingUtilization , age\n",
    "plt.plot(trainD0[:,[3]], zeros((len(trainD0),1)), 'o', color='blue', alpha=0.1) # y=0\n",
    "\n",
    "plt.xlabel('SibSp')\n",
    "plt.ylabel('1 or 0')\n",
    "plt.axis([-1,2,-1,2])"
   ]
  },
  {
   "cell_type": "markdown",
   "metadata": {},
   "source": [
    "### -Parch"
   ]
  },
  {
   "cell_type": "code",
   "execution_count": 388,
   "metadata": {
    "collapsed": false
   },
   "outputs": [
    {
     "data": {
      "image/png": "[encoded data removed]",
      "text/plain": [
       "<matplotlib.figure.Figure at 0x10853e510>"
      ]
     },
     "metadata": {},
     "output_type": "display_data"
    }
   ],
   "source": [
    "plt.boxplot(trainD1[:,[4]],positions=[1]) \n",
    "plt.boxplot(trainD0[:,[4]],positions=[0])\n",
    "plt.axis([-1,2,-0.5,1.5])\n",
    "plt.show()"
   ]
  },
  {
   "cell_type": "code",
   "execution_count": 220,
   "metadata": {
    "collapsed": false,
    "scrolled": true
   },
   "outputs": [
    {
     "data": {
      "text/plain": [
       "[-1, 2, -1, 2]"
      ]
     },
     "execution_count": 220,
     "metadata": {},
     "output_type": "execute_result"
    },
    {
     "data": {
      "image/png": "[encoded data removed]",
      "text/plain": [
       "<matplotlib.figure.Figure at 0x108888990>"
      ]
     },
     "metadata": {},
     "output_type": "display_data"
    }
   ],
   "source": [
    "plt.plot(trainD1[:,[4]], ones((len(trainD1),1)), 'o', color='red', alpha=0.1)  # y=1  #RevolvingUtilization , age\n",
    "plt.plot(trainD0[:,[4]], zeros((len(trainD0),1)), 'o', color='blue', alpha=0.1) # y=0\n",
    "\n",
    "plt.xlabel('Parch')\n",
    "plt.ylabel('1 or 0')\n",
    "plt.axis([-1,2,-1,2])"
   ]
  },
  {
   "cell_type": "markdown",
   "metadata": {},
   "source": [
    "### -Fare"
   ]
  },
  {
   "cell_type": "code",
   "execution_count": 400,
   "metadata": {
    "collapsed": false
   },
   "outputs": [
    {
     "data": {
      "image/png": "[encoded data removed]",
      "text/plain": [
       "<matplotlib.figure.Figure at 0x109d88910>"
      ]
     },
     "metadata": {},
     "output_type": "display_data"
    }
   ],
   "source": [
    "plt.boxplot(trainD1[:,[5]],positions=[1]) \n",
    "plt.boxplot(trainD0[:,[5]],positions=[0])\n",
    "plt.axis([-1,2,-0.5,1])\n",
    "plt.ylabel('Fare')\n",
    "plt.xlabel('0 or 1')\n",
    "plt.show()"
   ]
  },
  {
   "cell_type": "code",
   "execution_count": 221,
   "metadata": {
    "collapsed": false
   },
   "outputs": [
    {
     "data": {
      "text/plain": [
       "[-0.5, 1.0, -1, 2]"
      ]
     },
     "execution_count": 221,
     "metadata": {},
     "output_type": "execute_result"
    },
    {
     "data": {
      "image/png": "[encoded data removed]",
      "text/plain": [
       "<matplotlib.figure.Figure at 0x10922ec10>"
      ]
     },
     "metadata": {},
     "output_type": "display_data"
    }
   ],
   "source": [
    "plt.plot(trainD1[:,[5]], ones((len(trainD1),1)), 'o', color='red', alpha=0.1)  # y=1  #RevolvingUtilization , age\n",
    "plt.plot(trainD0[:,[5]], zeros((len(trainD0),1)), 'o', color='blue', alpha=0.1) # y=0\n",
    "\n",
    "plt.xlabel('Fare')\n",
    "plt.ylabel('1 or 0')\n",
    "plt.axis([-0.5,1.0,-1,2])"
   ]
  },
  {
   "cell_type": "markdown",
   "metadata": {
    "collapsed": false,
    "scrolled": true
   },
   "source": [
    "## Logistic Regression"
   ]
  },
  {
   "cell_type": "code",
   "execution_count": 222,
   "metadata": {
    "collapsed": true
   },
   "outputs": [],
   "source": [
    "def sigmoid(theta, x):\n",
    "    h=[] #h : (1*m) vector\n",
    "    for i in range( len(x) ):\n",
    "        z = float( dot(x[i],theta) ) #Z : (1*1)number\n",
    "        h.append( 1.0/(1.0+exp(z)) )\n",
    "    return h\n",
    "\n",
    "def gradientDescent(epoch, lr, x, y, initialTheta):\n",
    "    m,n = shape(x)\n",
    "    theta = initialTheta\n",
    "    cf = []\n",
    "    for j in range(epoch):\n",
    "        h = mat( sigmoid(theta, x) ).T\n",
    "        theta = theta + float(lr/m)*x.T*(h-y)\n",
    "        cf.append( costFunction(x,y,theta) )\n",
    "        if -0.1<=costFunction(x,y,theta)<=0.1:\n",
    "            break\n",
    "    return theta, cf\n",
    "\n",
    "\n",
    "#Logistic Regression Cost Function\n",
    "def costFunction(x,y,theta): #얘는 사실 할필요 없음. gradientDescent로 구하니까\n",
    "    h = mat( sigmoid(theta, x) ).T\n",
    "    j = (-1.0/m) * (log(h).T*y + log(1-h).T*(1-y)) #j:(1x1) number\n",
    "#     print \"cost \",float(j) #(-1.0) * (log(h).T*y + log(1-h).T*(1-y)) #j:(1x1) number\n",
    "    return float(j)\n",
    "\n",
    "\n",
    "def predict(test_dat, theta):\n",
    "    h = sigmoid(theta, test_dat)  \n",
    "#     print h\n",
    "    test_label=[]\n",
    "    for hp in h:\n",
    "        test_label.append( round(hp) )\n",
    "    return test_label"
   ]
  },
  {
   "cell_type": "code",
   "execution_count": 312,
   "metadata": {
    "collapsed": true
   },
   "outputs": [],
   "source": [
    "###########################regularization\n",
    "def sigmoid(theta, x):\n",
    "    h=[] #h : (1*m) vector\n",
    "    for i in range( len(x) ):\n",
    "        z = float( dot(x[i],theta) ) #Z : (1*1)number\n",
    "        h.append( 1.0/(1.0+exp(z)) )\n",
    "    return h\n",
    "\n",
    "def gradientDescent(epoch, lr, x, y, initialTheta, lmd):\n",
    "    m,n = shape(x)\n",
    "    theta = initialTheta\n",
    "    cf = []\n",
    "    for j in range(epoch):\n",
    "        h = mat( sigmoid(theta, x) ).T\n",
    "        theta_regul=copy.deepcopy(theta) ##regularization\n",
    "        theta_regul[-1]=0 ##regularization\n",
    "        theta = theta + float(lr/m)*x.T*(h-y) \n",
    "        theta -= float(-lmd/m)*theta_regul #####regularization\n",
    "        cf.append( costFunction(x,y,theta) )\n",
    "        if -0.1<=costFunction(x,y,theta)<=0.1:\n",
    "            break\n",
    "    return theta, cf\n",
    "\n",
    "\n",
    "#Logistic Regression Cost Function\n",
    "def costFunction(x,y,theta):\n",
    "    h = mat( sigmoid(theta, x) ).T\n",
    "    j = (-1.0/m) * (log(h).T*y + log(1-h).T*(1-y)) #j:(1x1) number\n",
    "#     print \"cost \",float(j) #(-1.0) * (log(h).T*y + log(1-h).T*(1-y)) #j:(1x1) number\n",
    "    return float(j)\n",
    "\n",
    "\n",
    "def predict(test_dat, theta):\n",
    "    h = sigmoid(theta, test_dat)  \n",
    "#     print h\n",
    "    test_label=[]\n",
    "    for hp in h:\n",
    "        test_label.append( round(hp) )\n",
    "    return test_label\n",
    "\n",
    "def calMSE(predict_label,test_label):\n",
    "    pl = array(predict_label)\n",
    "    tl = array(test_label)\n",
    "    mse = square(pl-tl).sum()\n",
    "    accuracy = (shape(pl)[0]-mse)*100/shape(pl)[0]\n",
    "    return mse#, accuracy"
   ]
  },
  {
   "cell_type": "markdown",
   "metadata": {},
   "source": [
    "### Fit"
   ]
  },
  {
   "cell_type": "code",
   "execution_count": 329,
   "metadata": {
    "collapsed": false
   },
   "outputs": [
    {
     "name": "stderr",
     "output_type": "stream",
     "text": [
      "/Users/sh/anaconda/lib/python2.7/site-packages/ipykernel/__main__.py:28: RuntimeWarning: divide by zero encountered in log\n",
      "/Users/sh/anaconda/lib/python2.7/site-packages/ipykernel/__main__.py:6: RuntimeWarning: overflow encountered in exp\n"
     ]
    }
   ],
   "source": [
    "logistic_mse10 = []\n",
    "for l in range(10):\n",
    "    initialTheta = mat([0 for i in range(n+1)]).T\n",
    "    theta, cf = gradientDescent(300, 0.5, train_mat, train_label, initialTheta, lmd=l)\n",
    "    predict_label = predict(test_mat, theta)\n",
    "#     print l, \" MSE\",calMSE(predict_label,test_label)\n",
    "    logistic_mse10.append(calMSE(predict_label,test_label))"
   ]
  },
  {
   "cell_type": "code",
   "execution_count": 330,
   "metadata": {
    "collapsed": false
   },
   "outputs": [
    {
     "data": {
      "text/plain": [
       "[49.0, 51.0, 51.0, 51.0, 51.0, 51.0, 51.0, 51.0, 51.0, 51.0]"
      ]
     },
     "execution_count": 330,
     "metadata": {},
     "output_type": "execute_result"
    }
   ],
   "source": [
    "logistic_mse10"
   ]
  },
  {
   "cell_type": "code",
   "execution_count": 345,
   "metadata": {
    "collapsed": false
   },
   "outputs": [
    {
     "data": {
      "image/png": "[encoded data removed]",
      "text/plain": [
       "<matplotlib.figure.Figure at 0x108355110>"
      ]
     },
     "metadata": {},
     "output_type": "display_data"
    }
   ],
   "source": [
    "plt.plot([i for i in range(0,10)], logistic_mse10, color='orange')\n",
    "# plt.plot(arange(11), logistic_mse10, 'o', color='red', alpha=1)  # y=1  #RevolvingUtilization , age\n",
    "# plt.plot(trainD0[:,[4]], zeros((len(trainD0),1)), 'o', color='blue', alpha=0.1) # y=0\n",
    "\n",
    "plt.xlabel('Lambda')\n",
    "plt.ylabel('TEST MSE')\n",
    "plt.axis([0,9, 48,53])\n",
    "plt.show()"
   ]
  },
  {
   "cell_type": "code",
   "execution_count": 332,
   "metadata": {
    "collapsed": false
   },
   "outputs": [],
   "source": [
    "logistic_mse1 = []\n",
    "for l in range(10):\n",
    "    initialTheta = mat([0 for i in range(n+1)]).T\n",
    "    theta, cf = gradientDescent(300, 0.5, train_mat, train_label, initialTheta, lmd=l*0.1)\n",
    "    predict_label = predict(test_mat, theta)\n",
    "#     print l*0.1, \" MSE\",calMSE(predict_label,test_label)\n",
    "    logistic_mse1.append(calMSE(predict_label,test_label))"
   ]
  },
  {
   "cell_type": "code",
   "execution_count": 333,
   "metadata": {
    "collapsed": false
   },
   "outputs": [
    {
     "data": {
      "text/plain": [
       "[49.0, 49.0, 49.0, 48.0, 48.0, 49.0, 50.0, 49.0, 49.0, 48.0]"
      ]
     },
     "execution_count": 333,
     "metadata": {},
     "output_type": "execute_result"
    }
   ],
   "source": [
    "logistic_mse1"
   ]
  },
  {
   "cell_type": "code",
   "execution_count": 349,
   "metadata": {
    "collapsed": false
   },
   "outputs": [
    {
     "data": {
      "image/png": "[encoded data removed]",
      "text/plain": [
       "<matplotlib.figure.Figure at 0x108f63b50>"
      ]
     },
     "metadata": {},
     "output_type": "display_data"
    }
   ],
   "source": [
    "plt.plot([i*0.1 for i in range(10)], logistic_mse1, color='orange')\n",
    "\n",
    "plt.xlabel('Lambda')\n",
    "plt.ylabel('TEST MSE')\n",
    "plt.axis([0.0,0.9, 47,51])\n",
    "plt.show()"
   ]
  },
  {
   "cell_type": "markdown",
   "metadata": {},
   "source": [
    "### Predict"
   ]
  },
  {
   "cell_type": "code",
   "execution_count": 335,
   "metadata": {
    "collapsed": false,
    "scrolled": true
   },
   "outputs": [],
   "source": [
    "initialTheta = mat([0 for i in range(n+1)]).T\n",
    "theta, cf = gradientDescent(300, 0.5, train_mat, train_label, initialTheta, lmd=0.4)"
   ]
  },
  {
   "cell_type": "code",
   "execution_count": 336,
   "metadata": {
    "collapsed": false
   },
   "outputs": [
    {
     "data": {
      "text/plain": [
       "matrix([[ 2.88096291],\n",
       "        [ 2.64537568],\n",
       "        [ 1.35123968],\n",
       "        [ 0.65208335],\n",
       "        [ 0.19889907],\n",
       "        [-0.66190231],\n",
       "        [ 0.4868912 ]])"
      ]
     },
     "execution_count": 336,
     "metadata": {},
     "output_type": "execute_result"
    }
   ],
   "source": [
    "theta"
   ]
  },
  {
   "cell_type": "code",
   "execution_count": 393,
   "metadata": {
    "collapsed": true
   },
   "outputs": [],
   "source": [
    "predict_label = predict(test_mat, theta)\n",
    "mse_logistic = calMSE(predict_label,test_label)\n",
    "m = shape(predict_label)[0]\n",
    "accuracy = round((m-mse_logistic)*100/m,2)"
   ]
  },
  {
   "cell_type": "code",
   "execution_count": 397,
   "metadata": {
    "collapsed": false
   },
   "outputs": [
    {
     "name": "stdout",
     "output_type": "stream",
     "text": [
      "79.83 %\n"
     ]
    }
   ],
   "source": [
    "print accuracy,'%'"
   ]
  },
  {
   "cell_type": "code",
   "execution_count": null,
   "metadata": {
    "collapsed": true
   },
   "outputs": [],
   "source": []
  },
  {
   "cell_type": "markdown",
   "metadata": {},
   "source": [
    "## KNN"
   ]
  },
  {
   "cell_type": "code",
   "execution_count": 407,
   "metadata": {
    "collapsed": false
   },
   "outputs": [],
   "source": [
    "#knn\n",
    "def classify0(inX, dataSet, labels, k):\n",
    "    #거리 계산\n",
    "    m = dataSet.shape[0]\n",
    "    diffMat = tile(inX, (m,1)) - dataSet\n",
    "    sqDiffMat = square(diffMat) #     sqDiffMat = diffMat**2\n",
    "    sqDistances = sqDiffMat.sum(axis=1)\n",
    "    distances = sqrt(sqDistances) # distances = sqDistances**0.5\n",
    "    sortedDistIndicies = distances.argsort() # argsort:오름차순 순서대로 인덱스표시\n",
    "    print \"sortedDistIndicies\", sortedDistIndicies\n",
    "    classCount={}\n",
    "    for i in range(k):\n",
    "        #가장 짧은 k거리 투표\n",
    "        voteIlabel = labels[sortedDistIndicies[i]] #'가장 짧은 거리의 인덱스'의 라벨\n",
    "        classCount[voteIlabel] = classCount.get(voteIlabel,0)+1 #count label\n",
    "    \n",
    "    #아이템 정렬 -> 제일 많은 라벨로 리턴\n",
    "    storedClassCount = sorted(classCount.iteritems(),\\\n",
    "                              key=operator.itemgetter(1),reverse=True)\n",
    "    return storedClassCount[0][0]\n",
    "\n",
    "def calMSE_KNN(predict_label, test_label):\n",
    "    pl = array(predict_label)\n",
    "    tl = array(test_label)\n",
    "    mse = square(pl-tl).sum()\n",
    "    accuracy = (shape(pl)[0]-mse)*100/shape(pl)[0]\n",
    "    return mse#, accuracy"
   ]
  },
  {
   "cell_type": "code",
   "execution_count": 365,
   "metadata": {
    "collapsed": false
   },
   "outputs": [],
   "source": [
    "m = len(test_mat_li)\n",
    "knn_mse=[]\n",
    "for k in range(1,100): # k\n",
    "    predict_label_knn=[]\n",
    "    for tm in test_mat_li:\n",
    "        predict_label_knn.append(classify0(tm, array(train_mat_li), train_label_li, k))\n",
    "    knn_mse.append(calMSE_KNN(predict_label_knn, test_label))"
   ]
  },
  {
   "cell_type": "code",
   "execution_count": 367,
   "metadata": {
    "collapsed": false
   },
   "outputs": [
    {
     "data": {
      "image/png": "[encoded data removed]",
      "text/plain": [
       "<matplotlib.figure.Figure at 0x108efc550>"
      ]
     },
     "metadata": {},
     "output_type": "display_data"
    }
   ],
   "source": [
    "plt.plot([i for i in range(1,100)], knn_mse, color='blue')\n",
    "\n",
    "plt.xlabel('K')\n",
    "plt.ylabel('TEST MSE')\n",
    "plt.axis([0,100, 40,70])\n",
    "plt.show()"
   ]
  },
  {
   "cell_type": "code",
   "execution_count": 362,
   "metadata": {
    "collapsed": false
   },
   "outputs": [
    {
     "data": {
      "text/plain": [
       "238"
      ]
     },
     "execution_count": 362,
     "metadata": {},
     "output_type": "execute_result"
    }
   ],
   "source": [
    "m"
   ]
  },
  {
   "cell_type": "code",
   "execution_count": 369,
   "metadata": {
    "collapsed": false
   },
   "outputs": [
    {
     "data": {
      "text/plain": [
       "34"
      ]
     },
     "execution_count": 369,
     "metadata": {},
     "output_type": "execute_result"
    }
   ],
   "source": [
    "knn_mse.index(min(knn_mse))"
   ]
  },
  {
   "cell_type": "code",
   "execution_count": 398,
   "metadata": {
    "collapsed": false
   },
   "outputs": [
    {
     "name": "stdout",
     "output_type": "stream",
     "text": [
      "정확도:  81.0924369748 %\n"
     ]
    }
   ],
   "source": [
    "best_k = 34\n",
    "predict_label_knn=[]\n",
    "for tm in test_mat_li:\n",
    "    predict_label_knn.append(classify0(tm, array(train_mat_li), train_label_li, best_k))\n",
    "\n",
    "m = len(predict_label_knn)\n",
    "numOfWrongPredict=0\n",
    "for i in range(m):\n",
    "    if predict_label_knn[i] != test_label[i]:\n",
    "        numOfWrongPredict+=1\n",
    "\n",
    "print \"정확도: \",float(m-numOfWrongPredict)*100/m,\"%\""
   ]
  }
 ],
 "metadata": {
  "kernelspec": {
   "display_name": "Python 2",
   "language": "python",
   "name": "python2"
  },
  "language_info": {
   "codemirror_mode": {
    "name": "ipython",
    "version": 2
   },
   "file_extension": ".py",
   "mimetype": "text/x-python",
   "name": "python",
   "nbconvert_exporter": "python",
   "pygments_lexer": "ipython2",
   "version": "2.7.11"
  }
 },
 "nbformat": 4,
 "nbformat_minor": 0
}
