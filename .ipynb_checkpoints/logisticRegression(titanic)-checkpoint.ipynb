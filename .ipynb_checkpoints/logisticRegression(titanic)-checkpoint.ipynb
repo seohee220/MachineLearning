{
 "cells": [
  {
   "cell_type": "code",
   "execution_count": 148,
   "metadata": {
    "collapsed": false
   },
   "outputs": [],
   "source": [
    "from numpy import *\n",
    "import matplotlib.pyplot as plt\n",
    "%matplotlib inline\n",
    "import math"
   ]
  },
  {
   "cell_type": "markdown",
   "metadata": {},
   "source": [
    "## Read File &\n",
    "## Make training sets and test sets"
   ]
  },
  {
   "cell_type": "code",
   "execution_count": 149,
   "metadata": {
    "collapsed": false
   },
   "outputs": [],
   "source": [
    "def divideTrainTest(data, label):\n",
    "    train_mat=[]; train_label=[]; test_mat=[]; test_label=[]\n",
    "    for i in range(len(label)):\n",
    "        #training set(2/3), test set(1/3)\n",
    "        if i%3==0:\n",
    "            test_mat.append(data[i])\n",
    "            test_label.append(label[i])\n",
    "        else:\n",
    "            train_mat.append(data[i])\n",
    "            train_label.append(label[i])\n",
    "\n",
    "    #x0(=1) 추가\n",
    "    train_mat = concatenate( (array(train_mat),ones((len(train_mat),1))), axis=1 ) \n",
    "    test_mat = concatenate( (array(test_mat),ones((len(test_mat),1))), axis=1 ) \n",
    "    return mat(train_mat), mat(train_label).T, mat(test_mat), test_label"
   ]
  },
  {
   "cell_type": "markdown",
   "metadata": {},
   "source": [
    "## Feature Normalization"
   ]
  },
  {
   "cell_type": "code",
   "execution_count": 135,
   "metadata": {
    "collapsed": true
   },
   "outputs": [],
   "source": [
    "def normalization(data):\n",
    "    d = mat(data)\n",
    "    m,n = shape(d)\n",
    "    avg=[]; mx=[]\n",
    "    for i in range(n):\n",
    "        avg.append( float( average(d[:,i]) ))\n",
    "        mx.append( float( max(d[:,i]) ) )\n",
    "#     x = (x-avg)/(mx)\n",
    "    return [[float(data[j][i]-avg[i])/(mx[i]) for i in range(n)] for j in range(m)]"
   ]
  },
  {
   "cell_type": "code",
   "execution_count": 153,
   "metadata": {
    "collapsed": false
   },
   "outputs": [
    {
     "name": "stdout",
     "output_type": "stream",
     "text": [
      "(714, 6)\n"
     ]
    }
   ],
   "source": [
    "data=[]; target=[]\n",
    "f=open(\"./titanic/train_2.csv\",'r')\n",
    "lines = f.readlines()\n",
    "f.close()\n",
    "for i in range(1,len(lines)):\n",
    "    if lines[i].find(',,') == -1:\n",
    "        splitLine = lines[i].split(',')\n",
    "        splitLine[7] = splitLine[7].strip(\"\\r\\n\")\n",
    "        if splitLine[3]=='male':\n",
    "            splitLine[3] = splitLine[3].replace('male','1')\n",
    "        elif splitLine[3]=='female':\n",
    "            splitLine[3] = splitLine[3].replace('female','0')\n",
    "        target.append( splitLine[1])\n",
    "        data.append( splitLine[2:] )\n",
    "data = [map(float, d) for d in data]\n",
    "data = normalization(data)\n",
    "print shape(data)\n",
    "target = map(float, target)\n",
    "train_mat, train_label, test_mat, test_label = divideTrainTest(data, target)"
   ]
  },
  {
   "cell_type": "markdown",
   "metadata": {},
   "source": [
    "## Plot"
   ]
  },
  {
   "cell_type": "code",
   "execution_count": 156,
   "metadata": {
    "collapsed": false
   },
   "outputs": [],
   "source": [
    "trainD1 = array([data[i] for i in range(m) if target[i]==1 ], dtype='float128')\n",
    "trainD0 = array([data[i] for i in range(m) if target[i]==0 ], dtype='float128')\n",
    "# plt.plot(trainD1[:,[2]], trainD1[:,[3]], 'o', color='red')  # y=1 \n",
    "# plt.plot(trainD0[:,[2]], trainD0[:,[3]], 'o', color='blue') # y=0"
   ]
  },
  {
   "cell_type": "markdown",
   "metadata": {},
   "source": [
    "### - Pclass"
   ]
  },
  {
   "cell_type": "code",
   "execution_count": 164,
   "metadata": {
    "collapsed": false
   },
   "outputs": [
    {
     "data": {
      "text/plain": [
       "[-1, 1, -1, 2]"
      ]
     },
     "execution_count": 164,
     "metadata": {},
     "output_type": "execute_result"
    },
    {
     "data": {
      "image/png": "[encoded data removed]",
      "text/plain": [
       "<matplotlib.figure.Figure at 0x108bd6590>"
      ]
     },
     "metadata": {},
     "output_type": "display_data"
    }
   ],
   "source": [
    "\n",
    "plt.plot(trainD1[:,[0]], ones((len(trainD1),1)), 'o', color='red', alpha=0.1)  # y=1  #RevolvingUtilization , age\n",
    "plt.plot(trainD0[:,[0]], zeros((len(trainD0),1)), 'o', color='blue', alpha=0.1) # y=0\n",
    "\n",
    "plt.xlabel('Pclass')\n",
    "plt.ylabel('1 or 0')\n",
    "plt.axis([-1,1,-1,2])"
   ]
  },
  {
   "cell_type": "markdown",
   "metadata": {},
   "source": [
    "### -sex"
   ]
  },
  {
   "cell_type": "code",
   "execution_count": 165,
   "metadata": {
    "collapsed": false
   },
   "outputs": [
    {
     "data": {
      "text/plain": [
       "[-1, 1, -1, 2]"
      ]
     },
     "execution_count": 165,
     "metadata": {},
     "output_type": "execute_result"
    },
    {
     "data": {
      "image/png": "[encoded data removed]",
      "text/plain": [
       "<matplotlib.figure.Figure at 0x10863ad90>"
      ]
     },
     "metadata": {},
     "output_type": "display_data"
    }
   ],
   "source": [
    "plt.plot(trainD1[:,[1]], ones((len(trainD1),1)), 'o', color='red', alpha=0.1)  # y=1  #RevolvingUtilization , age\n",
    "plt.plot(trainD0[:,[1]], zeros((len(trainD0),1)), 'o', color='blue', alpha=0.1) # y=0\n",
    "\n",
    "plt.xlabel('sex')\n",
    "plt.ylabel('1 or 0')\n",
    "plt.axis([-1,1,-1,2])"
   ]
  },
  {
   "cell_type": "markdown",
   "metadata": {},
   "source": [
    "### - Age"
   ]
  },
  {
   "cell_type": "code",
   "execution_count": 166,
   "metadata": {
    "collapsed": false
   },
   "outputs": [
    {
     "data": {
      "text/plain": [
       "[-1, 1, -1, 2]"
      ]
     },
     "execution_count": 166,
     "metadata": {},
     "output_type": "execute_result"
    },
    {
     "data": {
      "image/png": "[encoded data removed]",
      "text/plain": [
       "<matplotlib.figure.Figure at 0x108485a10>"
      ]
     },
     "metadata": {},
     "output_type": "display_data"
    }
   ],
   "source": [
    "plt.plot(trainD1[:,[2]], ones((len(trainD1),1)), 'o', color='red', alpha=0.1)  # y=1  #RevolvingUtilization , age\n",
    "plt.plot(trainD0[:,[2]], zeros((len(trainD0),1)), 'o', color='blue', alpha=0.1) # y=0\n",
    "\n",
    "plt.xlabel('Age')\n",
    "plt.ylabel('1 or 0')\n",
    "plt.axis([-1,1,-1,2])"
   ]
  },
  {
   "cell_type": "markdown",
   "metadata": {},
   "source": [
    "### -SibSp"
   ]
  },
  {
   "cell_type": "code",
   "execution_count": 168,
   "metadata": {
    "collapsed": false,
    "scrolled": true
   },
   "outputs": [
    {
     "data": {
      "text/plain": [
       "[-1, 2, -1, 2]"
      ]
     },
     "execution_count": 168,
     "metadata": {},
     "output_type": "execute_result"
    },
    {
     "data": {
      "image/png": "[encoded data removed]",
      "text/plain": [
       "<matplotlib.figure.Figure at 0x1089dcc50>"
      ]
     },
     "metadata": {},
     "output_type": "display_data"
    }
   ],
   "source": [
    "plt.plot(trainD1[:,[3]], ones((len(trainD1),1)), 'o', color='red', alpha=0.1)  # y=1  #RevolvingUtilization , age\n",
    "plt.plot(trainD0[:,[3]], zeros((len(trainD0),1)), 'o', color='blue', alpha=0.1) # y=0\n",
    "\n",
    "plt.xlabel('SibSp')\n",
    "plt.ylabel('1 or 0')\n",
    "plt.axis([-1,2,-1,2])"
   ]
  },
  {
   "cell_type": "markdown",
   "metadata": {},
   "source": [
    "### -Parch"
   ]
  },
  {
   "cell_type": "code",
   "execution_count": 169,
   "metadata": {
    "collapsed": false,
    "scrolled": true
   },
   "outputs": [
    {
     "data": {
      "text/plain": [
       "[-1, 2, -1, 2]"
      ]
     },
     "execution_count": 169,
     "metadata": {},
     "output_type": "execute_result"
    },
    {
     "data": {
      "image/png": "[encoded data removed]",
      "text/plain": [
       "<matplotlib.figure.Figure at 0x108b61f50>"
      ]
     },
     "metadata": {},
     "output_type": "display_data"
    }
   ],
   "source": [
    "plt.plot(trainD1[:,[4]], ones((len(trainD1),1)), 'o', color='red', alpha=0.1)  # y=1  #RevolvingUtilization , age\n",
    "plt.plot(trainD0[:,[4]], zeros((len(trainD0),1)), 'o', color='blue', alpha=0.1) # y=0\n",
    "\n",
    "plt.xlabel('Parch')\n",
    "plt.ylabel('1 or 0')\n",
    "plt.axis([-1,2,-1,2])"
   ]
  },
  {
   "cell_type": "markdown",
   "metadata": {},
   "source": [
    "### -Fare"
   ]
  },
  {
   "cell_type": "code",
   "execution_count": 171,
   "metadata": {
    "collapsed": false
   },
   "outputs": [
    {
     "data": {
      "text/plain": [
       "[-0.5, 1.0, -1, 2]"
      ]
     },
     "execution_count": 171,
     "metadata": {},
     "output_type": "execute_result"
    },
    {
     "data": {
      "image/png": "[encoded data removed]",
      "text/plain": [
       "<matplotlib.figure.Figure at 0x10940a090>"
      ]
     },
     "metadata": {},
     "output_type": "display_data"
    }
   ],
   "source": [
    "plt.plot(trainD1[:,[5]], ones((len(trainD1),1)), 'o', color='red', alpha=0.1)  # y=1  #RevolvingUtilization , age\n",
    "plt.plot(trainD0[:,[5]], zeros((len(trainD0),1)), 'o', color='blue', alpha=0.1) # y=0\n",
    "\n",
    "plt.xlabel('Fare')\n",
    "plt.ylabel('1 or 0')\n",
    "plt.axis([-0.5,1.0,-1,2])"
   ]
  },
  {
   "cell_type": "markdown",
   "metadata": {
    "collapsed": false,
    "scrolled": true
   },
   "source": [
    "## Logistic Regression"
   ]
  },
  {
   "cell_type": "code",
   "execution_count": 176,
   "metadata": {
    "collapsed": true
   },
   "outputs": [],
   "source": [
    "def sigmoid(theta, x):\n",
    "    h=[] #h : (1*m) vector\n",
    "    for i in range( len(x) ):\n",
    "        z = float( dot(x[i],theta) ) #Z : (1*1)number\n",
    "        h.append( 1.0/(1.0+exp(z)) )\n",
    "    return h\n",
    "\n",
    "def gradientDescent(epoch, lr, x, y, initialTheta):\n",
    "    m,n = shape(x)\n",
    "    theta = initialTheta\n",
    "    cf = []\n",
    "    for j in range(epoch):\n",
    "        h = mat( sigmoid(theta, x) ).T\n",
    "        theta = theta + float(lr/m)*x.T*(h-y) ### -로\n",
    "        cf.append( costFunction(x,y,theta) )\n",
    "        if -0.1<=costFunction(x,y,theta)<=0.1:\n",
    "            break\n",
    "    return theta, cf\n",
    "\n",
    "\n",
    "#Logistic Regression Cost Function\n",
    "def costFunction(x,y,theta): #얘는 사실 할필요 없음. gradientDescent로 구하니까\n",
    "    h = mat( sigmoid(theta, x) ).T\n",
    "    j = (-1.0/m) * (log(h).T*y + log(1-h).T*(1-y)) #j:(1x1) number\n",
    "#     print \"cost \",float(j) #(-1.0) * (log(h).T*y + log(1-h).T*(1-y)) #j:(1x1) number\n",
    "    return float(j)\n",
    "\n",
    "\n",
    "def predict(test_dat, theta):\n",
    "    h = sigmoid(theta, test_dat)  \n",
    "#     print h\n",
    "    test_label=[]\n",
    "    for hp in h:\n",
    "        test_label.append( round(hp) )\n",
    "    return test_label"
   ]
  },
  {
   "cell_type": "markdown",
   "metadata": {},
   "source": [
    "### Fit"
   ]
  },
  {
   "cell_type": "code",
   "execution_count": 203,
   "metadata": {
    "collapsed": false,
    "scrolled": true
   },
   "outputs": [],
   "source": [
    "initialTheta = mat([0 for i in range(n)]).T\n",
    "theta, cf = gradientDescent(1000, 0.5, train_mat, train_label, initialTheta)\n",
    "\n",
    "# theta = gradientDescent(20, 0.3, train_mat, train_label, initialTheta)\n",
    "# print theta"
   ]
  },
  {
   "cell_type": "code",
   "execution_count": 206,
   "metadata": {
    "collapsed": false
   },
   "outputs": [
    {
     "data": {
      "text/plain": [
       "matrix([[ 3.63192647],\n",
       "        [ 2.68316651],\n",
       "        [ 2.97020774],\n",
       "        [ 1.48820245],\n",
       "        [ 0.33774848],\n",
       "        [-0.83729512],\n",
       "        [ 0.50490546]])"
      ]
     },
     "execution_count": 206,
     "metadata": {},
     "output_type": "execute_result"
    }
   ],
   "source": [
    "theta"
   ]
  },
  {
   "cell_type": "code",
   "execution_count": 180,
   "metadata": {
    "collapsed": false
   },
   "outputs": [
    {
     "data": {
      "text/plain": [
       "(500,)"
      ]
     },
     "execution_count": 180,
     "metadata": {},
     "output_type": "execute_result"
    }
   ],
   "source": [
    "shape(cf)"
   ]
  },
  {
   "cell_type": "code",
   "execution_count": 205,
   "metadata": {
    "collapsed": false
   },
   "outputs": [
    {
     "data": {
      "text/plain": [
       "[0, 1000, 0, 2]"
      ]
     },
     "execution_count": 205,
     "metadata": {},
     "output_type": "execute_result"
    },
    {
     "data": {
      "image/png": "[encoded data removed]",
      "text/plain": [
       "<matplotlib.figure.Figure at 0x108a1d610>"
      ]
     },
     "metadata": {},
     "output_type": "display_data"
    }
   ],
   "source": [
    "plt.plot(arange(1000), cf, color='black', alpha=1)\n",
    "plt.xlabel('epoch')\n",
    "plt.ylabel('cost function value')\n",
    "plt.axis([0,1000,0,2])"
   ]
  },
  {
   "cell_type": "markdown",
   "metadata": {},
   "source": [
    "### Predict"
   ]
  },
  {
   "cell_type": "code",
   "execution_count": 202,
   "metadata": {
    "collapsed": false
   },
   "outputs": [
    {
     "name": "stdout",
     "output_type": "stream",
     "text": [
      "예측 label\n",
      "[0.0, 1.0, 0.0, 1.0, 0.0, 0.0, 0.0, 1.0, 0.0, 0.0, 1.0, 1.0, 0.0, 1.0, 0.0, 0.0, 0.0, 0.0, 0.0, 0.0, 1.0, 1.0, 0.0, 0.0, 0.0, 1.0, 1.0, 0.0, 0.0, 0.0, 0.0, 1.0, 0.0, 0.0, 0.0, 1.0, 1.0, 1.0, 0.0, 0.0, 0.0, 0.0, 1.0, 1.0, 0.0, 0.0, 1.0, 0.0, 0.0, 1.0, 0.0, 1.0, 1.0, 0.0, 0.0, 0.0, 0.0, 0.0, 0.0, 0.0, 0.0, 0.0, 0.0, 0.0, 0.0, 0.0, 1.0, 0.0, 0.0, 1.0, 0.0, 0.0, 1.0, 1.0, 0.0, 0.0, 0.0, 0.0, 1.0, 1.0, 1.0, 1.0, 1.0, 1.0, 1.0, 1.0, 0.0, 1.0, 1.0, 1.0, 1.0, 0.0, 0.0, 1.0, 0.0, 0.0, 0.0, 0.0, 1.0, 0.0, 1.0, 0.0, 0.0, 0.0, 0.0, 1.0, 1.0, 1.0, 1.0, 0.0, 0.0, 1.0, 1.0, 1.0, 1.0, 1.0, 1.0, 0.0, 0.0, 1.0, 1.0, 1.0, 0.0, 0.0, 0.0, 0.0, 1.0, 0.0, 0.0, 1.0, 0.0, 0.0, 1.0, 1.0, 1.0, 0.0, 1.0, 1.0, 1.0, 0.0, 0.0, 1.0, 1.0, 0.0, 0.0, 0.0, 0.0, 0.0, 0.0, 0.0, 0.0, 0.0, 1.0, 1.0, 0.0, 0.0, 1.0, 0.0, 1.0, 0.0, 1.0, 0.0, 1.0, 0.0, 0.0, 0.0, 0.0, 1.0, 0.0, 1.0, 0.0, 1.0, 1.0, 0.0, 0.0, 0.0, 0.0, 0.0, 0.0, 1.0, 0.0, 0.0, 1.0, 0.0, 0.0, 1.0, 0.0, 1.0, 1.0, 0.0, 1.0, 0.0, 1.0, 0.0, 0.0, 0.0, 0.0, 0.0, 1.0, 1.0, 0.0, 0.0, 1.0, 1.0, 1.0, 0.0, 0.0, 1.0, 0.0, 0.0, 0.0, 1.0, 1.0, 1.0, 0.0, 0.0, 0.0, 0.0, 0.0, 0.0, 0.0, 1.0, 0.0, 0.0, 1.0, 0.0, 0.0, 1.0, 1.0, 0.0, 0.0, 1.0, 1.0, 1.0, 0.0, 0.0, 0.0, 1.0] \n",
      "\n",
      "실제 label\n",
      "[0.0, 1.0, 0.0, 1.0, 0.0, 0.0, 1.0, 0.0, 0.0, 0.0, 1.0, 1.0, 0.0, 1.0, 0.0, 0.0, 0.0, 1.0, 0.0, 1.0, 1.0, 0.0, 0.0, 0.0, 0.0, 1.0, 0.0, 0.0, 0.0, 0.0, 0.0, 0.0, 0.0, 1.0, 0.0, 1.0, 1.0, 0.0, 0.0, 1.0, 0.0, 0.0, 1.0, 1.0, 0.0, 0.0, 1.0, 0.0, 0.0, 1.0, 0.0, 1.0, 1.0, 0.0, 1.0, 1.0, 0.0, 0.0, 0.0, 1.0, 1.0, 0.0, 0.0, 0.0, 0.0, 0.0, 0.0, 0.0, 0.0, 1.0, 1.0, 0.0, 1.0, 1.0, 0.0, 0.0, 1.0, 0.0, 1.0, 0.0, 0.0, 1.0, 1.0, 0.0, 1.0, 1.0, 0.0, 1.0, 1.0, 0.0, 1.0, 1.0, 0.0, 1.0, 0.0, 0.0, 0.0, 0.0, 1.0, 0.0, 1.0, 0.0, 0.0, 0.0, 1.0, 1.0, 0.0, 1.0, 0.0, 0.0, 0.0, 1.0, 0.0, 0.0, 1.0, 1.0, 1.0, 0.0, 0.0, 1.0, 1.0, 0.0, 0.0, 0.0, 0.0, 0.0, 0.0, 0.0, 0.0, 1.0, 1.0, 0.0, 0.0, 0.0, 0.0, 1.0, 1.0, 1.0, 1.0, 0.0, 0.0, 0.0, 1.0, 0.0, 0.0, 0.0, 0.0, 0.0, 1.0, 0.0, 1.0, 1.0, 1.0, 1.0, 0.0, 1.0, 1.0, 0.0, 1.0, 0.0, 1.0, 0.0, 0.0, 0.0, 0.0, 0.0, 1.0, 0.0, 0.0, 1.0, 1.0, 1.0, 0.0, 0.0, 0.0, 1.0, 0.0, 0.0, 0.0, 1.0, 0.0, 0.0, 1.0, 0.0, 0.0, 1.0, 0.0, 1.0, 1.0, 0.0, 1.0, 0.0, 1.0, 0.0, 0.0, 0.0, 0.0, 1.0, 1.0, 1.0, 0.0, 0.0, 1.0, 1.0, 0.0, 0.0, 0.0, 1.0, 0.0, 0.0, 0.0, 1.0, 0.0, 1.0, 0.0, 0.0, 0.0, 0.0, 0.0, 1.0, 0.0, 1.0, 0.0, 1.0, 1.0, 0.0, 0.0, 1.0, 1.0, 0.0, 0.0, 0.0, 1.0, 1.0, 0.0, 0.0, 0.0, 1.0] \n",
      "\n",
      "정확도:  78 %\n"
     ]
    }
   ],
   "source": [
    "predict_label = predict(test_mat, theta)\n",
    "\n",
    "print \"예측 label\\n\", predict_label,\"\\n\"\n",
    "print \"실제 label\\n\", test_label,\"\\n\"\n",
    "\n",
    "m = len( predict_label )\n",
    "numOfWrongPredict=0\n",
    "for i in range(m):\n",
    "    if predict_label[i] != test_label[i]:\n",
    "        numOfWrongPredict+=1\n",
    "\n",
    "print \"정확도: \",(m-numOfWrongPredict)*100/m,\"%\""
   ]
  }
 ],
 "metadata": {
  "kernelspec": {
   "display_name": "Python 2",
   "language": "python",
   "name": "python2"
  },
  "language_info": {
   "codemirror_mode": {
    "name": "ipython",
    "version": 2
   },
   "file_extension": ".py",
   "mimetype": "text/x-python",
   "name": "python",
   "nbconvert_exporter": "python",
   "pygments_lexer": "ipython2",
   "version": "2.7.11"
  }
 },
 "nbformat": 4,
 "nbformat_minor": 0
}
