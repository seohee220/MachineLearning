{
 "cells": [
  {
   "cell_type": "markdown",
   "metadata": {},
   "source": [
    "# Logistic Regression\n",
    "\n",
    "#### Classification of IRIS data set\n"
   ]
  },
  {
   "cell_type": "markdown",
   "metadata": {},
   "source": [
    "## Import modules"
   ]
  },
  {
   "cell_type": "code",
   "execution_count": 1,
   "metadata": {
    "collapsed": true
   },
   "outputs": [],
   "source": [
    "from sklearn import datasets\n",
    "from numpy import *\n",
    "import matplotlib.pyplot as plt\n",
    "import math\n",
    "from random import *\n",
    "from copy import deepcopy"
   ]
  },
  {
   "cell_type": "markdown",
   "metadata": {},
   "source": [
    "## Data sets"
   ]
  },
  {
   "cell_type": "raw",
   "metadata": {},
   "source": [
    "m : number of examples\n",
    "n : number of features(dimension)\n",
    "\n",
    "theta : \n",
    "    (n*1) vector\n",
    "x : datas\n",
    "    (m*n) matrix\n",
    "y : targets (labels)\n",
    "    (m*1) vector\n",
    "\n",
    "h : hypothesis\n",
    "    (m*1) vector\n",
    "j : cost function\n",
    "    (1*1) number"
   ]
  },
  {
   "cell_type": "markdown",
   "metadata": {},
   "source": [
    "## Logistic Regression"
   ]
  },
  {
   "cell_type": "code",
   "execution_count": 2,
   "metadata": {
    "collapsed": false
   },
   "outputs": [],
   "source": [
    "def sigmoid(theta, x):\n",
    "    h=[] #h : (1*m) vector\n",
    "    for i in range( len(x) ):\n",
    "        z = float( dot(x[i],theta) ) #Z : (1*1)number\n",
    "        h.append( 1.0/(1.0+exp(z)) )\n",
    "    return h\n",
    "\n",
    "def gradientDescent(epoch, lr, x, y, initialTheta):\n",
    "    m,n = shape(x)\n",
    "    theta = initialTheta\n",
    "\n",
    "    for j in range(epoch):\n",
    "        h = mat( sigmoid(theta, x) ).T\n",
    "        theta = theta + float(lr/m)*x.T*(h-y) ### -로\n",
    "#         costFunction(x,y,theta)\n",
    "    return theta\n",
    "\n",
    "\n",
    "#Logistic Regression Cost Function\n",
    "def costFunction(x,y,theta): #얘는 사실 할필요 없음. gradientDescent로 구하니까\n",
    "    h = mat( sigmoid(theta, x) ).T\n",
    "    j = (-1.0/m) * (log(h).T*y + log(1-h).T*(1-y)) #j:(1x1) number\n",
    "    print \"cost \",(-1.0) * (log(h).T*y + log(1-h).T*(1-y)) #j:(1x1) number\n",
    "    return float(j)\n",
    "\n",
    "\n",
    "def predict(test_dat, theta):\n",
    "    h = sigmoid(theta, test_dat)    \n",
    "    test_label=[]\n",
    "    for hp in h:\n",
    "        test_label.append( round(hp) )\n",
    "    return test_label"
   ]
  },
  {
   "cell_type": "code",
   "execution_count": 3,
   "metadata": {
    "collapsed": false
   },
   "outputs": [],
   "source": [
    "def binToIntLabel(bin_predict_label):\n",
    "    a, m = shape(bin_predict_label)\n",
    "    new_predict_label=[-1 for i in range(m)]\n",
    "    for i in range(m):\n",
    "        if bin_predict_label[0][i]==1:\n",
    "            new_predict_label[i] = 0\n",
    "        if bin_predict_label[1][i]==1:\n",
    "            new_predict_label[i] = 1\n",
    "        if bin_predict_label[2][i]==1:\n",
    "            new_predict_label[i] = 2\n",
    "        \n",
    "        if bin_predict_label[0][i]==1 and bin_predict_label[1][i]==1:\n",
    "            list = [0,1]\n",
    "            new_predict_label[i] = choice(list) #리스트 중에 랜덤으로선택\n",
    "        if bin_predict_label[1][i]==1 and bin_predict_label[2][i]==1:\n",
    "            list = [1,2]\n",
    "            new_predict_label[i] = choice(list) \n",
    "        if bin_predict_label[0][i]==1 and bin_predict_label[2][i]==1:\n",
    "            list = [0,2]\n",
    "            new_predict_label[i] = choice(list)\n",
    "        \n",
    "        if bin_predict_label[0][i]==1 and bin_predict_label[1][i]==1 and bin_predict_label[2][i]==1:\n",
    "            list = [0,1,2]\n",
    "            new_predict_label[i] = choice(list)\n",
    "    return new_predict_label\n",
    "\n",
    "def intToBinLabel(train_label, target_label):\n",
    "    label = deepcopy( train_label) #전체 복사, 주소값 변경 안되도록\n",
    "    m,n = shape(train_label)\n",
    "    for i in range(m):\n",
    "        #target_label만 1, 나머지는 0\n",
    "        if label[i]==target_label: label[i]=1\n",
    "        else: label[i]=0\n",
    "    return label\n",
    "\n",
    "def divideTrainTest(data, label):\n",
    "    train_mat=[]; train_label=[]; test_mat=[]; test_label=[]\n",
    "    for i in range(len(label)):\n",
    "        #training set(2/3), test set(1/3)\n",
    "        if i%3==0:\n",
    "            test_mat.append(data[i])\n",
    "            test_label.append(label[i])\n",
    "        else:\n",
    "            train_mat.append(data[i])\n",
    "            train_label.append(label[i])\n",
    "    \n",
    "    #x0(=1) 추가\n",
    "    train_mat = concatenate( (train_mat,ones((len(train_mat),1))), axis=1 ) \n",
    "    test_mat = concatenate( (test_mat,ones((len(test_mat),1))), axis=1 ) \n",
    "    return mat(train_mat), mat(train_label).T, mat(test_mat), test_label"
   ]
  },
  {
   "cell_type": "markdown",
   "metadata": {},
   "source": [
    "## IRIS data 예제"
   ]
  },
  {
   "cell_type": "code",
   "execution_count": 4,
   "metadata": {
    "collapsed": false,
    "scrolled": true
   },
   "outputs": [
    {
     "name": "stdout",
     "output_type": "stream",
     "text": [
      "theta0 \n",
      "[[-0.68552304]\n",
      " [-2.23458994]\n",
      " [ 3.57621201]\n",
      " [ 1.62620583]\n",
      " [-0.45218245]] \n",
      "\n",
      "theta1 \n",
      "[[-2.64313761]\n",
      " [ 4.64383865]\n",
      " [-0.66876977]\n",
      " [ 3.51558321]\n",
      " [-1.32462303]] \n",
      "\n",
      "theta2 \n",
      "[[ 3.42074732]\n",
      " [ 2.61004525]\n",
      " [-4.89664935]\n",
      " [-4.08505541]\n",
      " [ 1.96585264]] \n",
      "\n"
     ]
    }
   ],
   "source": [
    "iris = datasets.load_iris()\n",
    "train_mat, train_label, test_mat, test_label = divideTrainTest(iris.data, iris.target)\n",
    "\n",
    "initialTheta = mat([0,0,0,0,0]).T\n",
    "theta=[]\n",
    "for i in range(3):\n",
    "    bin_train_label = intToBinLabel(train_label,i)\n",
    "    theta.append( gradientDescent(1000, 0.3, train_mat, bin_train_label, initialTheta) )\n",
    "\n",
    "print \"theta0 \\n\",theta[0], \"\\n\"\n",
    "print \"theta1 \\n\",theta[1], \"\\n\"\n",
    "print \"theta2 \\n\",theta[2], \"\\n\""
   ]
  },
  {
   "cell_type": "code",
   "execution_count": 5,
   "metadata": {
    "collapsed": false,
    "scrolled": true
   },
   "outputs": [
    {
     "name": "stdout",
     "output_type": "stream",
     "text": [
      "예측 label\n",
      "[0, 0, 0, 0, 1, 0, 0, 0, 0, 0, 0, 0, 0, 0, 0, 0, 0, 1, 1, 1, 1, 1, -1, 1, 2, 1, 1, 1, -1, 1, 1, 1, 1, 1, 2, 2, 2, 1, 2, 2, 2, 2, 1, 2, 1, 2, 1, 2, 2, 1] \n",
      "\n",
      "실제 label\n",
      "[0, 0, 0, 0, 0, 0, 0, 0, 0, 0, 0, 0, 0, 0, 0, 0, 0, 1, 1, 1, 1, 1, 1, 1, 1, 1, 1, 1, 1, 1, 1, 1, 1, 1, 2, 2, 2, 2, 2, 2, 2, 2, 2, 2, 2, 2, 2, 2, 2, 2] \n",
      "\n",
      "정확도:  82 %\n"
     ]
    }
   ],
   "source": [
    "bin_predict_label = []\n",
    "for i in range(3):\n",
    "    bin_predict_label.append( array(predict(test_mat, theta[i])) )\n",
    "predict_label = binToIntLabel(bin_predict_label)\n",
    "print \"예측 label\\n\", predict_label,\"\\n\"\n",
    "print \"실제 label\\n\", test_label,\"\\n\"\n",
    "m = len( predict_label )\n",
    "numOfWrongPredict=0\n",
    "for i in range(m):\n",
    "    if predict_label[i] != test_label[i]:\n",
    "        numOfWrongPredict+=1\n",
    "\n",
    "print \"정확도: \",(m-numOfWrongPredict)*100/m,\"%\""
   ]
  },
  {
   "cell_type": "markdown",
   "metadata": {
    "collapsed": false
   },
   "source": [
    "## 예제"
   ]
  },
  {
   "cell_type": "code",
   "execution_count": 6,
   "metadata": {
    "collapsed": false,
    "scrolled": true
   },
   "outputs": [],
   "source": [
    "initialTheta = mat([1,0,0,0]).T #theta(0~n)\n",
    "x = mat([\\\n",
    "            [0.1, 0.2, 0.1],\\\n",
    "            [10.0, 8.0, 8.0],\\\n",
    "            [0.1, 0.4, 0.1],\\\n",
    "            [9.0, 8.0, 9.0],\\\n",
    "            [0.1, 0.2, 0.4],\\\n",
    "            [8.0, 9.2, 8.1],\\\n",
    "            [0.2, 1.0, 0.6],\\\n",
    "        ])\n",
    "x = concatenate( (x, ones((len(x),1))), axis=1 ) #add x0 (x0=1)\n",
    "y = mat([0,1,0,1,0,1,0]).T\n",
    "\n",
    "theta = gradientDescent(100, 0.05, x, y, initialTheta)\n"
   ]
  },
  {
   "cell_type": "code",
   "execution_count": 7,
   "metadata": {
    "collapsed": false,
    "scrolled": true
   },
   "outputs": [
    {
     "data": {
      "text/plain": [
       "[0.0, 1.0, 0.0, 1.0]"
      ]
     },
     "execution_count": 7,
     "metadata": {},
     "output_type": "execute_result"
    }
   ],
   "source": [
    "test_dat = mat([\\\n",
    "            [0.1, 0.1, 0.1],\\\n",
    "            [10.0, 7.0, 9.0],\\\n",
    "            [0.1, 0.4, 1],\\\n",
    "            [9.0, 8.0, 7.0]\\\n",
    "            ])\n",
    "test_dat = concatenate( (test_dat, ones((len(test_dat),1))), axis=1 ) #add x0 (x0=1)\n",
    "predict(test_dat, theta)"
   ]
  }
 ],
 "metadata": {
  "kernelspec": {
   "display_name": "Python 2",
   "language": "python",
   "name": "python2"
  },
  "language_info": {
   "codemirror_mode": {
    "name": "ipython",
    "version": 2
   },
   "file_extension": ".py",
   "mimetype": "text/x-python",
   "name": "python",
   "nbconvert_exporter": "python",
   "pygments_lexer": "ipython2",
   "version": "2.7.11"
  }
 },
 "nbformat": 4,
 "nbformat_minor": 0
}
